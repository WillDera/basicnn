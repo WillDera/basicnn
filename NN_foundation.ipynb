{
  "nbformat": 4,
  "nbformat_minor": 0,
  "metadata": {
    "colab": {
      "name": "NN_foundation.ipynb",
      "provenance": [],
      "collapsed_sections": [],
      "authorship_tag": "ABX9TyMY8PntgmoQbsYXVl5QDxau",
      "include_colab_link": true
    },
    "kernelspec": {
      "name": "python3",
      "display_name": "Python 3"
    }
  },
  "cells": [
    {
      "cell_type": "markdown",
      "metadata": {
        "id": "view-in-github",
        "colab_type": "text"
      },
      "source": [
        "<a href=\"https://colab.research.google.com/github/WillDera/simplenn/blob/master/NN_foundation.ipynb\" target=\"_parent\"><img src=\"https://colab.research.google.com/assets/colab-badge.svg\" alt=\"Open In Colab\"/></a>"
      ]
    },
    {
      "cell_type": "code",
      "metadata": {
        "id": "wQpx79MPHdaj",
        "colab_type": "code",
        "colab": {}
      },
      "source": [
        "import numpy as np\n",
        "from keras.datasets import mnist\n",
        "from keras.models import Sequential\n",
        "from keras.layers.core import Dense, Activation\n",
        "from keras.optimizers import RMSprop\n",
        "from keras.utils import np_utils\n",
        "np.random.seed(1671) #for reproductivity"
      ],
      "execution_count": null,
      "outputs": []
    },
    {
      "cell_type": "code",
      "metadata": {
        "id": "myf7zWqaIetQ",
        "colab_type": "code",
        "colab": {}
      },
      "source": [
        "# network and training\n",
        "NB_EPOCH = 100\n",
        "BATCH_SIZE = 128\n",
        "VERBOSE = 1\n",
        "NB_CLASSES = 10 # no. of outputs = no. of digits\n",
        "OPTIMIZER = RMSprop()\n",
        "N_HIDDEN1 = 300\n",
        "N_HIDDEN2 = 500\n",
        "N_HIDDEN3 = 100\n",
        "VALIDATION_SPLIT = 0.2 # how much TRAIN is reserved for VALIDATION"
      ],
      "execution_count": null,
      "outputs": []
    },
    {
      "cell_type": "code",
      "metadata": {
        "id": "Jaz2dBchIwXT",
        "colab_type": "code",
        "colab": {
          "base_uri": "https://localhost:8080/",
          "height": 51
        },
        "outputId": "1d6fdd03-e76c-4d59-ab35-cb9d4e3ed880"
      },
      "source": [
        "# data: shuffled and split b/w train and test sets\n",
        "\n",
        "(x_train, y_train), (x_test, y_test) = mnist.load_data()\n",
        "\n",
        "# x_train is 60000 rows of 28x28 values --> reshaped in 60000 x 784 \n",
        "RESHAPED = 784"
      ],
      "execution_count": null,
      "outputs": [
        {
          "output_type": "stream",
          "text": [
            "Downloading data from https://s3.amazonaws.com/img-datasets/mnist.npz\n",
            "11493376/11490434 [==============================] - 1s 0us/step\n"
          ],
          "name": "stdout"
        }
      ]
    },
    {
      "cell_type": "code",
      "metadata": {
        "id": "E3N0Kw0WI02m",
        "colab_type": "code",
        "colab": {}
      },
      "source": [
        "X_train = x_train.reshape(60000, RESHAPED)\n",
        "X_test = x_test.reshape(10000, RESHAPED)\n",
        "X_train = X_train.astype('float32')\n",
        "X_test = X_test.astype('float32')"
      ],
      "execution_count": null,
      "outputs": []
    },
    {
      "cell_type": "code",
      "metadata": {
        "id": "RV1YutxRJRT0",
        "colab_type": "code",
        "colab": {
          "base_uri": "https://localhost:8080/",
          "height": 51
        },
        "outputId": "3650329e-9837-426f-c160-19374163fa15"
      },
      "source": [
        "# normalize \n",
        "\n",
        "X_train /= 255\n",
        "X_test /= 255\n",
        "print(X_train.shape[0], 'train samples')\n",
        "print(X_test.shape[0], 'test samples')"
      ],
      "execution_count": null,
      "outputs": [
        {
          "output_type": "stream",
          "text": [
            "60000 train samples\n",
            "10000 test samples\n"
          ],
          "name": "stdout"
        }
      ]
    },
    {
      "cell_type": "code",
      "metadata": {
        "id": "UYC6kxCXJaOB",
        "colab_type": "code",
        "colab": {}
      },
      "source": [
        "# convert class vectors to binary class matrices\n",
        "y_train = np_utils.to_categorical(y_train, NB_CLASSES)\n",
        "y_test = np_utils.to_categorical(y_test, NB_CLASSES)"
      ],
      "execution_count": null,
      "outputs": []
    },
    {
      "cell_type": "code",
      "metadata": {
        "id": "30U0-k8KJeYr",
        "colab_type": "code",
        "colab": {
          "base_uri": "https://localhost:8080/",
          "height": 1000
        },
        "outputId": "b700aa58-3000-47a1-ec31-410a78de3a02"
      },
      "source": [
        "#10 outputs\n",
        "# final stage -> softmax\n",
        "\n",
        "model = Sequential()\n",
        "\n",
        "model.add(Dense(N_HIDDEN1, input_shape=(RESHAPED, )))\n",
        "model.add(Activation('relu'))\n",
        "model.add(Dense(N_HIDDEN2))\n",
        "model.add(Activation('relu'))\n",
        "model.add(Dense(N_HIDDEN3))\n",
        "model.add(Activation('relu'))\n",
        "model.add(Dense(NB_CLASSES))\n",
        "model.add(Activation('softmax'))\n",
        "\n",
        "model.summary()\n",
        "model.compile(loss='categorical_crossentropy', optimizer=OPTIMIZER, metrics=['accuracy'])\n",
        "history = model.fit(X_train, y_train, batch_size=BATCH_SIZE, epochs=NB_EPOCH, verbose=VERBOSE, validation_split=VALIDATION_SPLIT)\n",
        "score = model.evaluate(X_test, y_test, verbose=VERBOSE)\n",
        "print(\"Test score: \", score[0])\n",
        "print(\"Test accuracy: \", score[1])"
      ],
      "execution_count": null,
      "outputs": [
        {
          "output_type": "stream",
          "text": [
            "Model: \"sequential_1\"\n",
            "_________________________________________________________________\n",
            "Layer (type)                 Output Shape              Param #   \n",
            "=================================================================\n",
            "dense_1 (Dense)              (None, 300)               235500    \n",
            "_________________________________________________________________\n",
            "activation_1 (Activation)    (None, 300)               0         \n",
            "_________________________________________________________________\n",
            "dense_2 (Dense)              (None, 500)               150500    \n",
            "_________________________________________________________________\n",
            "activation_2 (Activation)    (None, 500)               0         \n",
            "_________________________________________________________________\n",
            "dense_3 (Dense)              (None, 100)               50100     \n",
            "_________________________________________________________________\n",
            "activation_3 (Activation)    (None, 100)               0         \n",
            "_________________________________________________________________\n",
            "dense_4 (Dense)              (None, 10)                1010      \n",
            "_________________________________________________________________\n",
            "activation_4 (Activation)    (None, 10)                0         \n",
            "=================================================================\n",
            "Total params: 437,110\n",
            "Trainable params: 437,110\n",
            "Non-trainable params: 0\n",
            "_________________________________________________________________\n",
            "Train on 48000 samples, validate on 12000 samples\n",
            "Epoch 1/100\n",
            "48000/48000 [==============================] - 4s 89us/step - loss: 0.2732 - accuracy: 0.9152 - val_loss: 0.1510 - val_accuracy: 0.9549\n",
            "Epoch 2/100\n",
            "48000/48000 [==============================] - 4s 81us/step - loss: 0.0996 - accuracy: 0.9691 - val_loss: 0.1009 - val_accuracy: 0.9711\n",
            "Epoch 3/100\n",
            "48000/48000 [==============================] - 4s 82us/step - loss: 0.0645 - accuracy: 0.9801 - val_loss: 0.0821 - val_accuracy: 0.9774\n",
            "Epoch 4/100\n",
            "48000/48000 [==============================] - 4s 81us/step - loss: 0.0467 - accuracy: 0.9858 - val_loss: 0.1098 - val_accuracy: 0.9695\n",
            "Epoch 5/100\n",
            "48000/48000 [==============================] - 4s 82us/step - loss: 0.0351 - accuracy: 0.9891 - val_loss: 0.0954 - val_accuracy: 0.9783\n",
            "Epoch 6/100\n",
            "48000/48000 [==============================] - 4s 82us/step - loss: 0.0290 - accuracy: 0.9908 - val_loss: 0.1081 - val_accuracy: 0.9768\n",
            "Epoch 7/100\n",
            "48000/48000 [==============================] - 4s 82us/step - loss: 0.0225 - accuracy: 0.9930 - val_loss: 0.1164 - val_accuracy: 0.9744\n",
            "Epoch 8/100\n",
            "48000/48000 [==============================] - 4s 82us/step - loss: 0.0198 - accuracy: 0.9941 - val_loss: 0.1569 - val_accuracy: 0.9728\n",
            "Epoch 9/100\n",
            "48000/48000 [==============================] - 4s 82us/step - loss: 0.0150 - accuracy: 0.9948 - val_loss: 0.1311 - val_accuracy: 0.9788\n",
            "Epoch 10/100\n",
            "48000/48000 [==============================] - 4s 82us/step - loss: 0.0146 - accuracy: 0.9957 - val_loss: 0.1391 - val_accuracy: 0.9791\n",
            "Epoch 11/100\n",
            "48000/48000 [==============================] - 4s 82us/step - loss: 0.0119 - accuracy: 0.9966 - val_loss: 0.1612 - val_accuracy: 0.9762\n",
            "Epoch 12/100\n",
            "48000/48000 [==============================] - 4s 82us/step - loss: 0.0119 - accuracy: 0.9964 - val_loss: 0.1461 - val_accuracy: 0.9798\n",
            "Epoch 13/100\n",
            "48000/48000 [==============================] - 4s 82us/step - loss: 0.0118 - accuracy: 0.9966 - val_loss: 0.1519 - val_accuracy: 0.9797\n",
            "Epoch 14/100\n",
            "48000/48000 [==============================] - 4s 82us/step - loss: 0.0098 - accuracy: 0.9974 - val_loss: 0.2158 - val_accuracy: 0.9743\n",
            "Epoch 15/100\n",
            "48000/48000 [==============================] - 4s 82us/step - loss: 0.0083 - accuracy: 0.9977 - val_loss: 0.1970 - val_accuracy: 0.9774\n",
            "Epoch 16/100\n",
            "48000/48000 [==============================] - 4s 81us/step - loss: 0.0087 - accuracy: 0.9976 - val_loss: 0.2249 - val_accuracy: 0.9777\n",
            "Epoch 17/100\n",
            "48000/48000 [==============================] - 4s 82us/step - loss: 0.0112 - accuracy: 0.9972 - val_loss: 0.1891 - val_accuracy: 0.9797\n",
            "Epoch 18/100\n",
            "48000/48000 [==============================] - 4s 83us/step - loss: 0.0078 - accuracy: 0.9978 - val_loss: 0.2212 - val_accuracy: 0.9775\n",
            "Epoch 19/100\n",
            "48000/48000 [==============================] - 4s 83us/step - loss: 0.0077 - accuracy: 0.9981 - val_loss: 0.2126 - val_accuracy: 0.9793\n",
            "Epoch 20/100\n",
            "48000/48000 [==============================] - 4s 84us/step - loss: 0.0070 - accuracy: 0.9981 - val_loss: 0.2137 - val_accuracy: 0.9793\n",
            "Epoch 21/100\n",
            "48000/48000 [==============================] - 4s 82us/step - loss: 0.0074 - accuracy: 0.9982 - val_loss: 0.2508 - val_accuracy: 0.9783\n",
            "Epoch 22/100\n",
            "48000/48000 [==============================] - 4s 83us/step - loss: 0.0049 - accuracy: 0.9986 - val_loss: 0.2440 - val_accuracy: 0.9799\n",
            "Epoch 23/100\n",
            "48000/48000 [==============================] - 4s 84us/step - loss: 0.0073 - accuracy: 0.9986 - val_loss: 0.2671 - val_accuracy: 0.9786\n",
            "Epoch 24/100\n",
            "48000/48000 [==============================] - 4s 83us/step - loss: 0.0060 - accuracy: 0.9987 - val_loss: 0.2560 - val_accuracy: 0.9793\n",
            "Epoch 25/100\n",
            "48000/48000 [==============================] - 4s 86us/step - loss: 0.0084 - accuracy: 0.9984 - val_loss: 0.2176 - val_accuracy: 0.9818\n",
            "Epoch 26/100\n",
            "48000/48000 [==============================] - 4s 91us/step - loss: 0.0074 - accuracy: 0.9985 - val_loss: 0.2766 - val_accuracy: 0.9784\n",
            "Epoch 27/100\n",
            "48000/48000 [==============================] - 4s 89us/step - loss: 0.0053 - accuracy: 0.9987 - val_loss: 0.2476 - val_accuracy: 0.9802\n",
            "Epoch 28/100\n",
            "48000/48000 [==============================] - 4s 80us/step - loss: 0.0071 - accuracy: 0.9984 - val_loss: 0.2777 - val_accuracy: 0.9812\n",
            "Epoch 29/100\n",
            "48000/48000 [==============================] - 4s 80us/step - loss: 0.0078 - accuracy: 0.9980 - val_loss: 0.2575 - val_accuracy: 0.9793\n",
            "Epoch 30/100\n",
            "48000/48000 [==============================] - 4s 80us/step - loss: 0.0071 - accuracy: 0.9986 - val_loss: 0.2720 - val_accuracy: 0.9827\n",
            "Epoch 31/100\n",
            "48000/48000 [==============================] - 4s 79us/step - loss: 0.0048 - accuracy: 0.9989 - val_loss: 0.2608 - val_accuracy: 0.9808\n",
            "Epoch 32/100\n",
            "48000/48000 [==============================] - 4s 79us/step - loss: 0.0066 - accuracy: 0.9987 - val_loss: 0.2816 - val_accuracy: 0.9812\n",
            "Epoch 33/100\n",
            "48000/48000 [==============================] - 4s 80us/step - loss: 0.0061 - accuracy: 0.9987 - val_loss: 0.3029 - val_accuracy: 0.9798\n",
            "Epoch 34/100\n",
            "48000/48000 [==============================] - 4s 79us/step - loss: 0.0076 - accuracy: 0.9985 - val_loss: 0.3038 - val_accuracy: 0.9812\n",
            "Epoch 35/100\n",
            "48000/48000 [==============================] - 4s 79us/step - loss: 0.0045 - accuracy: 0.9990 - val_loss: 0.3316 - val_accuracy: 0.9782\n",
            "Epoch 36/100\n",
            "48000/48000 [==============================] - 4s 78us/step - loss: 0.0046 - accuracy: 0.9991 - val_loss: 0.2827 - val_accuracy: 0.9809\n",
            "Epoch 37/100\n",
            "48000/48000 [==============================] - 4s 79us/step - loss: 0.0065 - accuracy: 0.9990 - val_loss: 0.3247 - val_accuracy: 0.9806\n",
            "Epoch 38/100\n",
            "48000/48000 [==============================] - 4s 80us/step - loss: 0.0051 - accuracy: 0.9991 - val_loss: 0.3059 - val_accuracy: 0.9806\n",
            "Epoch 39/100\n",
            "48000/48000 [==============================] - 4s 80us/step - loss: 0.0061 - accuracy: 0.9988 - val_loss: 0.3417 - val_accuracy: 0.9783\n",
            "Epoch 40/100\n",
            "48000/48000 [==============================] - 4s 80us/step - loss: 0.0054 - accuracy: 0.9991 - val_loss: 0.2904 - val_accuracy: 0.9832\n",
            "Epoch 41/100\n",
            "48000/48000 [==============================] - 4s 81us/step - loss: 0.0050 - accuracy: 0.9992 - val_loss: 0.3330 - val_accuracy: 0.9793\n",
            "Epoch 42/100\n",
            "48000/48000 [==============================] - 4s 79us/step - loss: 0.0065 - accuracy: 0.9988 - val_loss: 0.3734 - val_accuracy: 0.9812\n",
            "Epoch 43/100\n",
            "48000/48000 [==============================] - 4s 80us/step - loss: 0.0047 - accuracy: 0.9993 - val_loss: 0.3510 - val_accuracy: 0.9798\n",
            "Epoch 44/100\n",
            "48000/48000 [==============================] - 4s 79us/step - loss: 0.0061 - accuracy: 0.9987 - val_loss: 0.3521 - val_accuracy: 0.9789\n",
            "Epoch 45/100\n",
            "48000/48000 [==============================] - 4s 80us/step - loss: 0.0047 - accuracy: 0.9990 - val_loss: 0.3649 - val_accuracy: 0.9811\n",
            "Epoch 46/100\n",
            "48000/48000 [==============================] - 4s 79us/step - loss: 0.0041 - accuracy: 0.9991 - val_loss: 0.3410 - val_accuracy: 0.9793\n",
            "Epoch 47/100\n",
            "48000/48000 [==============================] - 4s 80us/step - loss: 0.0057 - accuracy: 0.9992 - val_loss: 0.3670 - val_accuracy: 0.9809\n",
            "Epoch 48/100\n",
            "48000/48000 [==============================] - 4s 79us/step - loss: 0.0046 - accuracy: 0.9992 - val_loss: 0.3756 - val_accuracy: 0.9810\n",
            "Epoch 49/100\n",
            "48000/48000 [==============================] - 4s 79us/step - loss: 0.0055 - accuracy: 0.9992 - val_loss: 0.3713 - val_accuracy: 0.9798\n",
            "Epoch 50/100\n",
            "48000/48000 [==============================] - 4s 79us/step - loss: 0.0054 - accuracy: 0.9990 - val_loss: 0.3991 - val_accuracy: 0.9810\n",
            "Epoch 51/100\n",
            "48000/48000 [==============================] - 4s 79us/step - loss: 0.0071 - accuracy: 0.9990 - val_loss: 0.4538 - val_accuracy: 0.9767\n",
            "Epoch 52/100\n",
            "48000/48000 [==============================] - 4s 79us/step - loss: 0.0046 - accuracy: 0.9989 - val_loss: 0.3736 - val_accuracy: 0.9801\n",
            "Epoch 53/100\n",
            "48000/48000 [==============================] - 4s 79us/step - loss: 0.0035 - accuracy: 0.9994 - val_loss: 0.3864 - val_accuracy: 0.9803\n",
            "Epoch 54/100\n",
            "48000/48000 [==============================] - 4s 79us/step - loss: 0.0044 - accuracy: 0.9994 - val_loss: 0.3942 - val_accuracy: 0.9790\n",
            "Epoch 55/100\n",
            "48000/48000 [==============================] - 4s 80us/step - loss: 0.0037 - accuracy: 0.9994 - val_loss: 0.3943 - val_accuracy: 0.9810\n",
            "Epoch 56/100\n",
            "48000/48000 [==============================] - 4s 79us/step - loss: 0.0027 - accuracy: 0.9995 - val_loss: 0.3973 - val_accuracy: 0.9804\n",
            "Epoch 57/100\n",
            "48000/48000 [==============================] - 4s 79us/step - loss: 0.0041 - accuracy: 0.9994 - val_loss: 0.4126 - val_accuracy: 0.9812\n",
            "Epoch 58/100\n",
            "48000/48000 [==============================] - 4s 80us/step - loss: 0.0030 - accuracy: 0.9995 - val_loss: 0.4927 - val_accuracy: 0.9783\n",
            "Epoch 59/100\n",
            "48000/48000 [==============================] - 4s 79us/step - loss: 0.0057 - accuracy: 0.9991 - val_loss: 0.4444 - val_accuracy: 0.9801\n",
            "Epoch 60/100\n",
            "48000/48000 [==============================] - 4s 78us/step - loss: 0.0060 - accuracy: 0.9991 - val_loss: 0.4402 - val_accuracy: 0.9787\n",
            "Epoch 61/100\n",
            "48000/48000 [==============================] - 4s 79us/step - loss: 0.0055 - accuracy: 0.9992 - val_loss: 0.3905 - val_accuracy: 0.9813\n",
            "Epoch 62/100\n",
            "48000/48000 [==============================] - 4s 79us/step - loss: 0.0018 - accuracy: 0.9996 - val_loss: 0.3917 - val_accuracy: 0.9820\n",
            "Epoch 63/100\n",
            "48000/48000 [==============================] - 4s 79us/step - loss: 0.0027 - accuracy: 0.9995 - val_loss: 0.4447 - val_accuracy: 0.9811\n",
            "Epoch 64/100\n",
            "48000/48000 [==============================] - 4s 79us/step - loss: 0.0042 - accuracy: 0.9991 - val_loss: 0.4837 - val_accuracy: 0.9788\n",
            "Epoch 65/100\n",
            "48000/48000 [==============================] - 4s 80us/step - loss: 0.0039 - accuracy: 0.9994 - val_loss: 0.4445 - val_accuracy: 0.9813\n",
            "Epoch 66/100\n",
            "48000/48000 [==============================] - 4s 79us/step - loss: 0.0026 - accuracy: 0.9995 - val_loss: 0.4924 - val_accuracy: 0.9801\n",
            "Epoch 67/100\n",
            "48000/48000 [==============================] - 4s 79us/step - loss: 0.0041 - accuracy: 0.9994 - val_loss: 0.4805 - val_accuracy: 0.9803\n",
            "Epoch 68/100\n",
            "48000/48000 [==============================] - 4s 80us/step - loss: 0.0038 - accuracy: 0.9993 - val_loss: 0.4729 - val_accuracy: 0.9804\n",
            "Epoch 69/100\n",
            "48000/48000 [==============================] - 4s 80us/step - loss: 0.0019 - accuracy: 0.9996 - val_loss: 0.5347 - val_accuracy: 0.9797\n",
            "Epoch 70/100\n",
            "48000/48000 [==============================] - 4s 79us/step - loss: 0.0029 - accuracy: 0.9995 - val_loss: 0.4713 - val_accuracy: 0.9817\n",
            "Epoch 71/100\n",
            "48000/48000 [==============================] - 4s 80us/step - loss: 0.0037 - accuracy: 0.9995 - val_loss: 0.4564 - val_accuracy: 0.9819\n",
            "Epoch 72/100\n",
            "48000/48000 [==============================] - 4s 81us/step - loss: 0.0042 - accuracy: 0.9994 - val_loss: 0.4502 - val_accuracy: 0.9809\n",
            "Epoch 73/100\n",
            "48000/48000 [==============================] - 4s 81us/step - loss: 0.0017 - accuracy: 0.9997 - val_loss: 0.4456 - val_accuracy: 0.9827\n",
            "Epoch 74/100\n",
            "48000/48000 [==============================] - 4s 80us/step - loss: 0.0037 - accuracy: 0.9993 - val_loss: 0.4613 - val_accuracy: 0.9808\n",
            "Epoch 75/100\n",
            "48000/48000 [==============================] - 4s 80us/step - loss: 0.0030 - accuracy: 0.9995 - val_loss: 0.4969 - val_accuracy: 0.9808\n",
            "Epoch 76/100\n",
            "48000/48000 [==============================] - 4s 79us/step - loss: 0.0051 - accuracy: 0.9994 - val_loss: 0.4685 - val_accuracy: 0.9799\n",
            "Epoch 77/100\n",
            "48000/48000 [==============================] - 4s 80us/step - loss: 0.0031 - accuracy: 0.9996 - val_loss: 0.4934 - val_accuracy: 0.9803\n",
            "Epoch 78/100\n",
            "48000/48000 [==============================] - 4s 79us/step - loss: 0.0049 - accuracy: 0.9994 - val_loss: 0.4734 - val_accuracy: 0.9809\n",
            "Epoch 79/100\n",
            "48000/48000 [==============================] - 4s 81us/step - loss: 0.0030 - accuracy: 0.9994 - val_loss: 0.4636 - val_accuracy: 0.9810\n",
            "Epoch 80/100\n",
            "48000/48000 [==============================] - 4s 81us/step - loss: 0.0028 - accuracy: 0.9995 - val_loss: 0.5966 - val_accuracy: 0.9782\n",
            "Epoch 81/100\n",
            "48000/48000 [==============================] - 4s 80us/step - loss: 0.0028 - accuracy: 0.9996 - val_loss: 0.4655 - val_accuracy: 0.9827\n",
            "Epoch 82/100\n",
            "48000/48000 [==============================] - 4s 80us/step - loss: 0.0011 - accuracy: 0.9998 - val_loss: 0.5304 - val_accuracy: 0.9799\n",
            "Epoch 83/100\n",
            "48000/48000 [==============================] - 4s 81us/step - loss: 0.0031 - accuracy: 0.9995 - val_loss: 0.5421 - val_accuracy: 0.9803\n",
            "Epoch 84/100\n",
            "48000/48000 [==============================] - 4s 81us/step - loss: 0.0034 - accuracy: 0.9995 - val_loss: 0.5854 - val_accuracy: 0.9797\n",
            "Epoch 85/100\n",
            "48000/48000 [==============================] - 4s 81us/step - loss: 0.0030 - accuracy: 0.9996 - val_loss: 0.5375 - val_accuracy: 0.9820\n",
            "Epoch 86/100\n",
            "48000/48000 [==============================] - 4s 81us/step - loss: 9.8473e-04 - accuracy: 0.9999 - val_loss: 0.5114 - val_accuracy: 0.9818\n",
            "Epoch 87/100\n",
            "48000/48000 [==============================] - 4s 80us/step - loss: 0.0031 - accuracy: 0.9995 - val_loss: 0.5461 - val_accuracy: 0.9822\n",
            "Epoch 88/100\n",
            "48000/48000 [==============================] - 4s 81us/step - loss: 0.0029 - accuracy: 0.9996 - val_loss: 0.5875 - val_accuracy: 0.9814\n",
            "Epoch 89/100\n",
            "48000/48000 [==============================] - 4s 80us/step - loss: 0.0020 - accuracy: 0.9997 - val_loss: 0.5678 - val_accuracy: 0.9801\n",
            "Epoch 90/100\n",
            "48000/48000 [==============================] - 4s 80us/step - loss: 0.0032 - accuracy: 0.9996 - val_loss: 0.5398 - val_accuracy: 0.9822\n",
            "Epoch 91/100\n",
            "48000/48000 [==============================] - 4s 82us/step - loss: 0.0030 - accuracy: 0.9996 - val_loss: 0.5385 - val_accuracy: 0.9813\n",
            "Epoch 92/100\n",
            "48000/48000 [==============================] - 4s 81us/step - loss: 0.0033 - accuracy: 0.9996 - val_loss: 0.5185 - val_accuracy: 0.9819\n",
            "Epoch 93/100\n",
            "48000/48000 [==============================] - 4s 81us/step - loss: 0.0039 - accuracy: 0.9996 - val_loss: 0.5258 - val_accuracy: 0.9805\n",
            "Epoch 94/100\n",
            "48000/48000 [==============================] - 4s 80us/step - loss: 0.0034 - accuracy: 0.9996 - val_loss: 0.5373 - val_accuracy: 0.9790\n",
            "Epoch 95/100\n",
            "48000/48000 [==============================] - 4s 80us/step - loss: 0.0027 - accuracy: 0.9996 - val_loss: 0.5721 - val_accuracy: 0.9803\n",
            "Epoch 96/100\n",
            "48000/48000 [==============================] - 4s 80us/step - loss: 9.6437e-04 - accuracy: 0.9998 - val_loss: 0.5639 - val_accuracy: 0.9793\n",
            "Epoch 97/100\n",
            "48000/48000 [==============================] - 4s 81us/step - loss: 8.7986e-04 - accuracy: 0.9999 - val_loss: 0.5540 - val_accuracy: 0.9803\n",
            "Epoch 98/100\n",
            "48000/48000 [==============================] - 4s 80us/step - loss: 0.0017 - accuracy: 0.9997 - val_loss: 0.5494 - val_accuracy: 0.9823\n",
            "Epoch 99/100\n",
            "48000/48000 [==============================] - 4s 81us/step - loss: 0.0030 - accuracy: 0.9997 - val_loss: 0.5539 - val_accuracy: 0.9812\n",
            "Epoch 100/100\n",
            "48000/48000 [==============================] - 4s 81us/step - loss: 0.0032 - accuracy: 0.9995 - val_loss: 0.5376 - val_accuracy: 0.9801\n",
            "10000/10000 [==============================] - 0s 39us/step\n",
            "Test score:  0.4699222366634922\n",
            "Test accuracy:  0.9807999730110168\n"
          ],
          "name": "stdout"
        }
      ]
    },
    {
      "cell_type": "code",
      "metadata": {
        "id": "yW7qonVrLY08",
        "colab_type": "code",
        "colab": {}
      },
      "source": [
        ""
      ],
      "execution_count": null,
      "outputs": []
    }
  ]
}